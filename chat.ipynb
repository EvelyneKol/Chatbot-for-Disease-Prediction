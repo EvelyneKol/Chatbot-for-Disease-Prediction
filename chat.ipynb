{
 "cells": [
  {
   "cell_type": "code",
   "execution_count": 3,
   "id": "07041640-0671-438a-b057-48219399a6cc",
   "metadata": {},
   "outputs": [],
   "source": [
    "from transformers import AutoModelForCausalLM, AutoTokenizer, pipeline\n",
    "from langchain.chains import LLMChain\n",
    "from langchain.prompts import PromptTemplate\n",
    "from langchain.llms import HuggingFacePipeline\n",
    "import torch"
   ]
  },
  {
   "cell_type": "code",
   "execution_count": 9,
   "id": "64803e7c-bf0c-4550-a125-ca1f0acc7f00",
   "metadata": {},
   "outputs": [],
   "source": [
    "import pandas as pd\n",
    "from langchain_community.llms import Ollama\n",
    "from langchain_core.prompts import ChatPromptTemplate\n",
    "from langchain.chains import ConversationChain\n",
    "from langchain.memory import ConversationBufferMemory\n",
    "from langchain.prompts.chat import ChatPromptTemplate, SystemMessagePromptTemplate, HumanMessagePromptTemplate"
   ]
  },
  {
   "cell_type": "code",
   "execution_count": 4,
   "id": "71f7305b-ae5f-4fe9-8ce3-6a11a3b2850b",
   "metadata": {},
   "outputs": [
    {
     "data": {
      "application/vnd.jupyter.widget-view+json": {
       "model_id": "cabd5aae0b514a99bc85ea3e67784a0c",
       "version_major": 2,
       "version_minor": 0
      },
      "text/plain": [
       "config.json:   0%|          | 0.00/769 [00:00<?, ?B/s]"
      ]
     },
     "metadata": {},
     "output_type": "display_data"
    },
    {
     "name": "stderr",
     "output_type": "stream",
     "text": [
      "C:\\Users\\evage\\anaconda3\\envs\\clean_env\\lib\\site-packages\\huggingface_hub\\file_download.py:139: UserWarning: `huggingface_hub` cache-system uses symlinks by default to efficiently store duplicated files but your machine does not support them in C:\\Users\\evage\\.cache\\huggingface\\hub\\models--evelynkol--intent-classifier. Caching files will still work but in a degraded version that might require more space on your disk. This warning can be disabled by setting the `HF_HUB_DISABLE_SYMLINKS_WARNING` environment variable. For more details, see https://huggingface.co/docs/huggingface_hub/how-to-cache#limitations.\n",
      "To support symlinks on Windows, you either need to activate Developer Mode or to run Python as an administrator. In order to activate developer mode, see this article: https://docs.microsoft.com/en-us/windows/apps/get-started/enable-your-device-for-development\n",
      "  warnings.warn(message)\n"
     ]
    },
    {
     "data": {
      "application/vnd.jupyter.widget-view+json": {
       "model_id": "3b1cb03356f743d991ba3886b2a0d830",
       "version_major": 2,
       "version_minor": 0
      },
      "text/plain": [
       "model.safetensors:   0%|          | 0.00/268M [00:00<?, ?B/s]"
      ]
     },
     "metadata": {},
     "output_type": "display_data"
    },
    {
     "data": {
      "application/vnd.jupyter.widget-view+json": {
       "model_id": "491e8ab84d1547a796edca498f81c268",
       "version_major": 2,
       "version_minor": 0
      },
      "text/plain": [
       "tokenizer_config.json:   0%|          | 0.00/1.20k [00:00<?, ?B/s]"
      ]
     },
     "metadata": {},
     "output_type": "display_data"
    },
    {
     "data": {
      "application/vnd.jupyter.widget-view+json": {
       "model_id": "24971cc25d414457af0de86a8af395de",
       "version_major": 2,
       "version_minor": 0
      },
      "text/plain": [
       "vocab.txt:   0%|          | 0.00/232k [00:00<?, ?B/s]"
      ]
     },
     "metadata": {},
     "output_type": "display_data"
    },
    {
     "data": {
      "application/vnd.jupyter.widget-view+json": {
       "model_id": "4879e4a77de24c618f84750eeabcfe5e",
       "version_major": 2,
       "version_minor": 0
      },
      "text/plain": [
       "tokenizer.json:   0%|          | 0.00/712k [00:00<?, ?B/s]"
      ]
     },
     "metadata": {},
     "output_type": "display_data"
    },
    {
     "data": {
      "application/vnd.jupyter.widget-view+json": {
       "model_id": "2d392617b4814daca296eacc96f89da4",
       "version_major": 2,
       "version_minor": 0
      },
      "text/plain": [
       "special_tokens_map.json:   0%|          | 0.00/125 [00:00<?, ?B/s]"
      ]
     },
     "metadata": {},
     "output_type": "display_data"
    }
   ],
   "source": [
    "# φόρτωση του fine-tuned Intent Classifier\n",
    "from transformers import AutoModelForSequenceClassification, AutoTokenizer\n",
    "\n",
    "classifier_model = AutoModelForSequenceClassification.from_pretrained(\"evelynkol/intent-classifier\")\n",
    "classifier_tokenizer = AutoTokenizer.from_pretrained(\"evelynkol/intent-classifier\")"
   ]
  },
  {
   "cell_type": "code",
   "execution_count": 6,
   "id": "223ccff3-3b4c-44de-9db3-8854b07909eb",
   "metadata": {},
   "outputs": [],
   "source": [
    "# Load the locally installed LLaMA model using Ollama\n",
    "llama2 = Ollama(model=\"llama3.2:1b\")"
   ]
  },
  {
   "cell_type": "code",
   "execution_count": 22,
   "id": "c2cb8712-fcd6-42af-8e6d-7dd6afb6a2cb",
   "metadata": {},
   "outputs": [],
   "source": [
    "from langchain_community.llms import Ollama\n",
    "from langchain_core.prompts import ChatPromptTemplate\n",
    "from langchain.chains import ConversationChain\n",
    "from langchain.memory import ConversationBufferMemory\n",
    "\n",
    "chat_prompt = ChatPromptTemplate.from_messages(\n",
    "    [\n",
    "        (\"system\", \"You are a knowledgeable medical assistant chatbot. Provide accurate and helpful answers to medical questions. Conversation so far:\\n{history}\"),\n",
    "        (\"human\", \"{input}\"),\n",
    "    ]\n",
    ")\n",
    "\n",
    "# χρηση Llama2 μοντέλου \n",
    "llama2 = Ollama(model=\"llama3.2:1b\")\n",
    "\n",
    "# δημιουργία memory συνομολίας \n",
    "memory = ConversationBufferMemory()\n",
    "\n",
    "# chain συζήτησης \n",
    "med_question_chain = ConversationChain(\n",
    "    llm=llama2,\n",
    "    prompt=chat_prompt,\n",
    "    memory=memory\n",
    ")"
   ]
  },
  {
   "cell_type": "code",
   "execution_count": 25,
   "id": "b3ec9801-f9fb-4a87-b37f-f3d1cc39e169",
   "metadata": {},
   "outputs": [
    {
     "name": "stdout",
     "output_type": "stream",
     "text": [
      "1\n",
      "Chatbot: I can provide more information on the side effects of ibuprofen. In addition to the gastrointestinal issues you mentioned earlier, such as stomach upset, nausea, and vomiting, some other potential side effects of ibuprofen include:\n",
      "\n",
      "* Kidney damage or dysfunction: Ibuprofen may increase the risk of kidney damage or dysfunction, especially in individuals with pre-existing kidney problems.\n",
      "* Liver damage or dysfunction: There have been reports of liver damage and dysfunction associated with long-term use of ibuprofen.\n",
      "* Allergic reactions: As mentioned earlier, allergic reactions can include hives, itching, difficulty breathing, and other symptoms.\n",
      "* Increased risk of heart attack, stroke, or other cardiovascular events: Ibuprofen may increase the risk of heart attack, stroke, and other cardiovascular events in certain individuals.\n",
      "\n",
      "It's also worth noting that ibuprofen can interact with certain medications, such as:\n",
      "\n",
      "* Blood thinners (e.g., warfarin)\n",
      "* Diabetes medications\n",
      "* Certain antibiotics\n",
      "* Corticosteroids\n",
      "\n",
      "If you're experiencing any unusual side effects or concerns while taking ibuprofen, it's essential to consult with your healthcare provider for personalized guidance and advice. They can help determine the best course of action and monitor your health closely if necessary.\n",
      "\n",
      "Do you have any other questions about ibuprofen or its potential side effects?\n"
     ]
    }
   ],
   "source": [
    "# Function to classify intent using the intent classifier\n",
    "def classify_intent(user_input):\n",
    "    inputs = classifier_tokenizer(user_input, return_tensors=\"pt\", truncation=True, padding=True)\n",
    "    outputs = classifier_model(**inputs)\n",
    "    intent_id = torch.argmax(outputs.logits, dim=1).item()\n",
    "    return intent_id  # 1 for 'med_question', 0 for other intents like 'symptoms'\n",
    "\n",
    "\n",
    "# Function to handle medical questions\n",
    "def handle_med_question(user_input):\n",
    "    # Use the medical question chain for generating a response\n",
    "    response = med_question_chain.run(input=user_input)\n",
    "    return response\n",
    "\n",
    "\n",
    "# Main function to handle user input\n",
    "def chatbot(user_input):\n",
    "    # Step 1: Classify the intent\n",
    "    intent = classify_intent(user_input)\n",
    "    print(intent)\n",
    "\n",
    "    # Step 2: Handle the intent\n",
    "    if intent == 1:  # Medical question\n",
    "        response = handle_med_question(user_input)\n",
    "    else:\n",
    "        response = \"I'm sorry, I can't understand your input. Please describe your symptoms or ask a medical question.\"\n",
    "    \n",
    "    return response\n",
    "\n",
    "\n",
    "# Example usage\n",
    "user_input = \"What are the side effects of ibuprofen?\"\n",
    "response = chatbot(user_input)\n",
    "print(f\"Chatbot: {response}\")"
   ]
  }
 ],
 "metadata": {
  "kernelspec": {
   "display_name": "clean_env",
   "language": "python",
   "name": "clean_env"
  },
  "language_info": {
   "codemirror_mode": {
    "name": "ipython",
    "version": 3
   },
   "file_extension": ".py",
   "mimetype": "text/x-python",
   "name": "python",
   "nbconvert_exporter": "python",
   "pygments_lexer": "ipython3",
   "version": "3.9.20"
  }
 },
 "nbformat": 4,
 "nbformat_minor": 5
}
