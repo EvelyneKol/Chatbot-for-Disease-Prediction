{
 "cells": [
  {
   "cell_type": "code",
   "execution_count": 23,
   "id": "2f32176e-7af4-4687-ab58-ad52ee3d6567",
   "metadata": {},
   "outputs": [],
   "source": [
    "import pandas as pd\n",
    "from sklearn.neighbors import KNeighborsClassifier\n",
    "from sklearn.tree import DecisionTreeClassifier\n",
    "from sklearn.ensemble import RandomForestClassifier\n",
    "from sklearn.svm import SVC\n",
    "from sklearn.neural_network import MLPClassifier\n",
    "from sklearn.metrics import accuracy_score, precision_score, recall_score\n",
    "from sklearn.model_selection import train_test_split, cross_val_score"
   ]
  },
  {
   "cell_type": "code",
   "execution_count": 30,
   "id": "d8a9a54d-a0e2-461f-af07-81cfacc01da0",
   "metadata": {},
   "outputs": [],
   "source": [
    "# Διάβασμα του dataset\n",
    "data = pd.read_csv('Dataset.csv')\n",
    "\n",
    "# κενές τιμές με 0\n",
    "data = data.fillna(0)\n",
    "\n",
    "# features και target\n",
    "X = data.drop(columns=['Disease'])  \n",
    "y = data['Disease']  \n",
    "\n",
    "# Split σε training και testing σύνολα\n",
    "X_train, X_test, y_train, y_test = train_test_split(X, y, test_size=0.3, random_state=42)"
   ]
  },
  {
   "cell_type": "markdown",
   "id": "3822be3a-56da-4fa2-b1f3-1b6730d824ca",
   "metadata": {},
   "source": [
    "## KNN with Cross Validation"
   ]
  },
  {
   "cell_type": "code",
   "execution_count": 16,
   "id": "435733aa-f8c0-4683-b583-f9f68931cc7b",
   "metadata": {},
   "outputs": [
    {
     "name": "stderr",
     "output_type": "stream",
     "text": [
      "C:\\Users\\evage\\anaconda3\\Lib\\site-packages\\sklearn\\model_selection\\_split.py:776: UserWarning: The least populated class in y has only 1 members, which is less than n_splits=5.\n",
      "  warnings.warn(\n"
     ]
    },
    {
     "name": "stdout",
     "output_type": "stream",
     "text": [
      "Cross-validation accuracy scores: [0.96901408 0.97183099 0.97042254 0.97179126 0.97038082]\n",
      "Mean cross-validation accuracy: 0.97\n",
      "Standard deviation of cross-validation accuracy: 0.00\n",
      "Αποτελέσματα στο Test Set ----\n",
      "Accuracy: 0.97\n",
      "Precision: 0.98\n",
      "Recall: 0.97\n"
     ]
    }
   ],
   "source": [
    "# Εκπαίδευση kNN \n",
    "knn = KNeighborsClassifier(n_neighbors=5) \n",
    "\n",
    "# Cross-validation me 5 folds\n",
    "cv_scores = cross_val_score(knn, X_train, y_train, cv=5, scoring='accuracy')  \n",
    "\n",
    "# Εκτύπωση αποτελεσμάτων του cross-validation\n",
    "print('Cross-validation accuracy scores:', cv_scores)\n",
    "print(f'Mean cross-validation accuracy: {cv_scores.mean():.2f}')\n",
    "print(f'Standard deviation of cross-validation accuracy: {cv_scores.std():.2f}')\n",
    "\n",
    "# Εκπαίδευση kNN \n",
    "knn.fit(X_train, y_train)\n",
    "\n",
    "# Πρόβλεψη \n",
    "y_pred = knn.predict(X_test)\n",
    "\n",
    "# Υπολογισμός accuracy, precision, recall\n",
    "accuracy = accuracy_score(y_test, y_pred)\n",
    "precision = precision_score(y_test, y_pred, average='weighted', zero_division=1)\n",
    "recall = recall_score(y_test, y_pred, average='weighted', zero_division=1)\n",
    "\n",
    "print('Αποτελέσματα στο Test Set ----')\n",
    "print(f'Accuracy: {accuracy:.2f}')\n",
    "print(f'Precision: {precision:.2f}')\n",
    "print(f'Recall: {recall:.2f}')"
   ]
  },
  {
   "cell_type": "markdown",
   "id": "0dee2021-8b89-42df-aaae-e13bb777c157",
   "metadata": {},
   "source": [
    "## Decision Tree"
   ]
  },
  {
   "cell_type": "code",
   "execution_count": 18,
   "id": "6e70cc44-3eda-4e5b-9cc9-be5f5d7c3d69",
   "metadata": {},
   "outputs": [
    {
     "name": "stderr",
     "output_type": "stream",
     "text": [
      "C:\\Users\\evage\\anaconda3\\Lib\\site-packages\\sklearn\\model_selection\\_split.py:776: UserWarning: The least populated class in y has only 1 members, which is less than n_splits=5.\n",
      "  warnings.warn(\n"
     ]
    },
    {
     "name": "stdout",
     "output_type": "stream",
     "text": [
      "Cross-validation accuracy scores: [0.96901408 0.96619718 0.97042254 0.97179126 0.96755994]\n",
      "Mean cross-validation accuracy: 0.97\n",
      "Standard deviation of cross-validation accuracy: 0.00\n",
      "Decision Tree:\n",
      "Accuracy: 0.97\n",
      "Precision: 1.00\n",
      "Recall: 0.97\n"
     ]
    }
   ],
   "source": [
    "# ______ Εκπαίδευση Decision Tree _____\n",
    "decision_tree = DecisionTreeClassifier(random_state=42)\n",
    "decision_tree.fit(X_train, y_train)\n",
    "\n",
    "# Πρόβλεψη\n",
    "y_pred_dt = decision_tree.predict(X_test)\n",
    "\n",
    "# Cross-validation με 5 folds\n",
    "cv_scores = cross_val_score(decision_tree, X_train, y_train, cv=5, scoring='accuracy')  \n",
    "\n",
    "# Εκτύπωση αποτελεσμάτων του cross-validation\n",
    "print('Cross-validation accuracy scores:', cv_scores)\n",
    "print(f'Mean cross-validation accuracy: {cv_scores.mean():.2f}')\n",
    "print(f'Standard deviation of cross-validation accuracy: {cv_scores.std():.2f}')\n",
    "\n",
    "# Υπολογισμός accuracy, precision, recall\n",
    "accuracy_dt = accuracy_score(y_test, y_pred_dt)\n",
    "precision_dt = precision_score(y_test, y_pred_dt, average='weighted', zero_division=1)\n",
    "recall_dt = recall_score(y_test, y_pred_dt, average='weighted', zero_division=1)\n",
    "\n",
    "print('Decision Tree:')\n",
    "print(f'Accuracy: {accuracy_dt:.2f}')\n",
    "print(f'Precision: {precision_dt:.2f}')\n",
    "print(f'Recall: {recall_dt:.2f}')\n"
   ]
  },
  {
   "cell_type": "markdown",
   "id": "38a66f88-52f6-49e6-870f-f27d7249fb31",
   "metadata": {},
   "source": [
    "## Random Forest "
   ]
  },
  {
   "cell_type": "code",
   "execution_count": 19,
   "id": "210f53b0-03e7-4780-bca7-c083fa8d3b52",
   "metadata": {},
   "outputs": [
    {
     "name": "stderr",
     "output_type": "stream",
     "text": [
      "C:\\Users\\evage\\anaconda3\\Lib\\site-packages\\sklearn\\model_selection\\_split.py:776: UserWarning: The least populated class in y has only 1 members, which is less than n_splits=5.\n",
      "  warnings.warn(\n"
     ]
    },
    {
     "name": "stdout",
     "output_type": "stream",
     "text": [
      "Cross-validation accuracy scores: [0.96901408 0.97183099 0.97042254 0.97179126 0.97038082]\n",
      "Mean cross-validation accuracy: 0.97\n",
      "Standard deviation of cross-validation accuracy: 0.00\n",
      "Random Forest:\n",
      "Accuracy: 0.97\n",
      "Precision: 1.00\n",
      "Recall: 0.97\n"
     ]
    }
   ],
   "source": [
    "# _____ Εκπαίδευση Random Forest _____\n",
    "random_forest = RandomForestClassifier(n_estimators=100, random_state=42)\n",
    "random_forest.fit(X_train, y_train)\n",
    "\n",
    "# Πρόβλεψη\n",
    "y_pred_rf = random_forest.predict(X_test)\n",
    "\n",
    "# Cross-validation me 5 folds \n",
    "cv_scores = cross_val_score(random_forest, X_train, y_train, cv=5, scoring='accuracy') \n",
    "\n",
    "# Εκτύπωση αποτελεσμάτων του cross-validation\n",
    "print('Cross-validation accuracy scores:', cv_scores)\n",
    "print(f'Mean cross-validation accuracy: {cv_scores.mean():.2f}')\n",
    "print(f'Standard deviation of cross-validation accuracy: {cv_scores.std():.2f}')\n",
    "\n",
    "# Υπολογισμός accuracy, precision, recall\n",
    "accuracy_rf = accuracy_score(y_test, y_pred_rf)\n",
    "precision_rf = precision_score(y_test, y_pred_rf, average='weighted', zero_division=1)\n",
    "recall_rf = recall_score(y_test, y_pred_rf, average='weighted', zero_division=1)\n",
    "\n",
    "print('Random Forest:')\n",
    "print(f'Accuracy: {accuracy_rf:.2f}')\n",
    "print(f'Precision: {precision_rf:.2f}')\n",
    "print(f'Recall: {recall_rf:.2f}')"
   ]
  },
  {
   "cell_type": "markdown",
   "id": "5305ce18-ece3-43f6-874e-41026d74ed37",
   "metadata": {},
   "source": [
    "## SVM"
   ]
  },
  {
   "cell_type": "code",
   "execution_count": 22,
   "id": "a5f73991-9f91-4e57-8933-e5ba7bdf462e",
   "metadata": {},
   "outputs": [
    {
     "name": "stderr",
     "output_type": "stream",
     "text": [
      "C:\\Users\\evage\\anaconda3\\Lib\\site-packages\\sklearn\\model_selection\\_split.py:776: UserWarning: The least populated class in y has only 1 members, which is less than n_splits=4.\n",
      "  warnings.warn(\n"
     ]
    },
    {
     "name": "stdout",
     "output_type": "stream",
     "text": [
      "Cross-validation accuracy scores: [0.9729425  0.96956032 0.97068771 0.96956032]\n",
      "Mean cross-validation accuracy: 0.97\n",
      "Standard deviation of cross-validation accuracy: 0.00\n",
      "Support Vector Machine:\n",
      "Accuracy: 0.97\n",
      "Precision: 0.98\n",
      "Recall: 0.97\n"
     ]
    }
   ],
   "source": [
    "# Support Vector Machine \n",
    "# Εκπαίδευση SVM\n",
    "svm = SVC(random_state=42)\n",
    "svm.fit(X_train, y_train)\n",
    "\n",
    "# Πρόβλεψη\n",
    "y_pred_svm = svm.predict(X_test)\n",
    "\n",
    "# Cross-validation me 4 folds \n",
    "cv_scores = cross_val_score(svm, X_train, y_train, cv=4, scoring='accuracy')  \n",
    "\n",
    "# Εκτύπωση αποτελεσμάτων του cross-validation\n",
    "print('Cross-validation accuracy scores:', cv_scores)\n",
    "print(f'Mean cross-validation accuracy: {cv_scores.mean():.2f}')\n",
    "print(f'Standard deviation of cross-validation accuracy: {cv_scores.std():.2f}')\n",
    "\n",
    "# Υπολογισμός accuracy, precision, recall\n",
    "accuracy_svm = accuracy_score(y_test, y_pred_svm)\n",
    "precision_svm = precision_score(y_test, y_pred_svm, average='weighted', zero_division=1)\n",
    "recall_svm = recall_score(y_test, y_pred_svm, average='weighted', zero_division=1)\n",
    "\n",
    "print('Support Vector Machine:')\n",
    "print(f'Accuracy: {accuracy_svm:.2f}')\n",
    "print(f'Precision: {precision_svm:.2f}')\n",
    "print(f'Recall: {recall_svm:.2f}')"
   ]
  },
  {
   "cell_type": "markdown",
   "id": "888bb5bc-a4fa-4eff-a1ff-ae1fec599b4b",
   "metadata": {},
   "source": [
    "## MLP"
   ]
  },
  {
   "cell_type": "code",
   "execution_count": 26,
   "id": "9eaf0105-d727-4dda-b4a9-275f1c462273",
   "metadata": {},
   "outputs": [
    {
     "name": "stderr",
     "output_type": "stream",
     "text": [
      "C:\\Users\\evage\\anaconda3\\Lib\\site-packages\\sklearn\\model_selection\\_split.py:776: UserWarning: The least populated class in y has only 1 members, which is less than n_splits=4.\n",
      "  warnings.warn(\n"
     ]
    },
    {
     "name": "stdout",
     "output_type": "stream",
     "text": [
      "MLP Cross-validation accuracy scores: [0.9729425  0.96956032 0.97068771 0.96956032]\n",
      "Mean cross-validation accuracy: 0.97\n",
      "Standard deviation of cross-validation accuracy: 0.00\n",
      "---- MLP Evaluation on Test Set ----\n",
      "Accuracy: 0.97\n",
      "Precision: 0.99\n",
      "Recall: 0.97\n"
     ]
    }
   ],
   "source": [
    "# _____ MLP _____\n",
    "mlp = MLPClassifier(hidden_layer_sizes=(100,), max_iter=300, random_state=42)\n",
    "\n",
    "# Cross-validation\n",
    "cv_scores_mlp = cross_val_score(mlp, X_train, y_train, cv=4, scoring='accuracy')\n",
    "\n",
    "# Εκτύπωση αποτελεσμάτων του cross-validation\n",
    "print('MLP Cross-validation accuracy scores:', cv_scores_mlp)\n",
    "print(f'Mean cross-validation accuracy: {cv_scores_mlp.mean():.2f}')\n",
    "print(f'Standard deviation of cross-validation accuracy: {cv_scores_mlp.std():.2f}')\n",
    "\n",
    "# Εκπαίδευση του MLP \n",
    "mlp.fit(X_train, y_train)\n",
    "\n",
    "# Πρόβλεψη\n",
    "y_pred_mlp = mlp.predict(X_test)\n",
    "\n",
    "# Υπολογισμός accuracy, precision, recall\n",
    "accuracy_mlp = accuracy_score(y_test, y_pred_mlp)\n",
    "precision_mlp = precision_score(y_test, y_pred_mlp, average='weighted', zero_division=1)\n",
    "recall_mlp = recall_score(y_test, y_pred_mlp, average='weighted', zero_division=1)\n",
    "\n",
    "print('---- MLP Evaluation on Test Set ----')\n",
    "print(f'Accuracy: {accuracy_mlp:.2f}')\n",
    "print(f'Precision: {precision_mlp:.2f}')\n",
    "print(f'Recall: {recall_mlp:.2f}')"
   ]
  }
 ],
 "metadata": {
  "kernelspec": {
   "display_name": "Python 3 (ipykernel)",
   "language": "python",
   "name": "python3"
  },
  "language_info": {
   "codemirror_mode": {
    "name": "ipython",
    "version": 3
   },
   "file_extension": ".py",
   "mimetype": "text/x-python",
   "name": "python",
   "nbconvert_exporter": "python",
   "pygments_lexer": "ipython3",
   "version": "3.11.5"
  }
 },
 "nbformat": 4,
 "nbformat_minor": 5
}
