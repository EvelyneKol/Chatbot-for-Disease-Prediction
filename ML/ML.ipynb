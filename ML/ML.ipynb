{
 "cells": [
  {
   "cell_type": "code",
   "execution_count": 1,
   "id": "2e3d42e0-e392-4c6e-b4b7-09c4d4c345ce",
   "metadata": {},
   "outputs": [],
   "source": [
    "import numpy as np\n",
    "import pandas as pd\n",
    "import matplotlib.pyplot as plt\n",
    "import seaborn as sns\n",
    "from sklearn.model_selection import train_test_split, cross_val_score\n",
    "from sklearn.naive_bayes import GaussianNB\n",
    "from sklearn.ensemble import RandomForestClassifier\n",
    "from sklearn.neighbors import KNeighborsClassifier\n",
    "from sklearn.tree import DecisionTreeClassifier\n",
    "from sklearn.svm import SVC\n",
    "from sklearn.neural_network import MLPClassifier\n",
    "from sklearn.metrics import accuracy_score, precision_score, recall_score, classification_report\n",
    "import tensorflow as tf\n",
    "from tensorflow import keras\n",
    "from tensorflow.keras.models import Sequential\n",
    "from sklearn.preprocessing import LabelEncoder\n",
    "from sklearn.model_selection import StratifiedKFold\n",
    "from tensorflow.keras.callbacks import EarlyStopping\n",
    "from tensorflow.keras.layers import Dense, Conv1D, Flatten, Dropout, BatchNormalization, MaxPooling1D\n",
    "from tensorflow.keras.utils import to_categorical"
   ]
  },
  {
   "cell_type": "code",
   "execution_count": 3,
   "id": "a93d365d-6311-41a3-beca-393d42a344d4",
   "metadata": {},
   "outputs": [],
   "source": [
    "train_data = pd.read_csv(\"Training.csv\").drop(columns=[\"Unnamed: 133\"], errors=\"ignore\")\n",
    "test_data = pd.read_csv(\"Testing.csv\").dropna(axis=1)"
   ]
  },
  {
   "cell_type": "code",
   "execution_count": 4,
   "id": "975a190f-4dd4-46d2-8aca-05640381dfcc",
   "metadata": {},
   "outputs": [
    {
     "name": "stdout",
     "output_type": "stream",
     "text": [
      "Train: (3936, 132), (3936,)\n",
      "Test: (984, 132), (984,)\n"
     ]
    }
   ],
   "source": [
    "# Feature selection\n",
    "X = train_data.drop(columns=[\"prognosis\"])\n",
    "y = train_data[\"prognosis\"]  # Convert y to a 1D array\n",
    "\n",
    "# Test dataset\n",
    "P = test_data.drop(columns=[\"prognosis\"])\n",
    "\n",
    "# Split dataset\n",
    "X_train, X_test, y_train, y_test = train_test_split(X, y, test_size=0.20, random_state=24, stratify=y)\n",
    "\n",
    "print(f\"Train: {X_train.shape}, {y_train.shape}\")\n",
    "print(f\"Test: {X_test.shape}, {y_test.shape}\")"
   ]
  },
  {
   "cell_type": "markdown",
   "id": "e1cd3b66-0aba-48ad-93d5-880eb2a69335",
   "metadata": {},
   "source": [
    "## KNN"
   ]
  },
  {
   "cell_type": "code",
   "execution_count": 5,
   "id": "b8bc3c41-67a9-4fd8-9774-fb201c711f59",
   "metadata": {},
   "outputs": [
    {
     "name": "stdout",
     "output_type": "stream",
     "text": [
      "Metrics on ---Training Set ----\n",
      "Accuracy: 1.00\n",
      "Precision: 1.00\n",
      "Recall: 1.00\n",
      "\n",
      "Metrics on ---Test Set ----\n",
      "Accuracy: 1.00\n",
      "Precision: 1.00\n",
      "Recall: 1.00\n",
      "\n",
      "Cross-validation accuracy: 1.00 and 0.00\n"
     ]
    }
   ],
   "source": [
    "# Initialize kNN classifier\n",
    "knn = KNeighborsClassifier(n_neighbors=10)\n",
    "\n",
    "# Train the model\n",
    "knn.fit(X_train, y_train)\n",
    "\n",
    "# Predictions\n",
    "training_knn = knn.predict(X_train)\n",
    "testing_knn = knn.predict(X_test)\n",
    "\n",
    "# Evaluate on training set\n",
    "print(\"Metrics on ---Training Set ----\")\n",
    "print(f'Accuracy: {accuracy_score(y_train, training_knn):.2f}')\n",
    "print(f'Precision: {precision_score(y_train, training_knn, average=\"weighted\", zero_division=1):.2f}')\n",
    "print(f'Recall: {recall_score(y_train, training_knn, average=\"weighted\", zero_division=1):.2f}')\n",
    "#print(\"\\nClassification Report:\\n\", classification_report(y_train, training_knn))\n",
    "\n",
    "# Evaluate on test set\n",
    "print(\"\\nMetrics on ---Test Set ----\")\n",
    "print(f'Accuracy: {accuracy_score(y_test, testing_knn):.2f}')\n",
    "print(f'Precision: {precision_score(y_test, testing_knn, average=\"weighted\", zero_division=1):.2f}')\n",
    "print(f'Recall: {recall_score(y_test, testing_knn, average=\"weighted\", zero_division=1):.2f}')\n",
    "#print(\"\\nClassification Report:\\n\", classification_report(y_test, testing_knn))\n",
    "\n",
    "# cross-validation\n",
    "cv_scores = cross_val_score(knn, X, y, cv=5, scoring='accuracy')\n",
    "print(f\"\\nCross-validation accuracy: {cv_scores.mean():.2f} and {cv_scores.std():.2f}\")"
   ]
  },
  {
   "cell_type": "markdown",
   "id": "4bf122be-6ba3-4ca1-a17b-0c4a5802cd41",
   "metadata": {},
   "source": [
    "## Decision Tree"
   ]
  },
  {
   "cell_type": "code",
   "execution_count": 6,
   "id": "523cd759-fe65-40f8-a9a5-b8518d06da50",
   "metadata": {},
   "outputs": [
    {
     "name": "stdout",
     "output_type": "stream",
     "text": [
      "Metrics on ---Training Set ----\n",
      "Accuracy: 1.00\n",
      "Precision: 1.00\n",
      "Recall: 1.00\n",
      "\n",
      "Metrics on ---Test Set ----\n",
      "Accuracy: 1.00\n",
      "Precision: 1.00\n",
      "Recall: 1.00\n",
      "\n",
      "Cross-validation accuracy: 1.00 and 0.00\n"
     ]
    }
   ],
   "source": [
    "# ______ Εκπαίδευση Decision Tree _____\n",
    "decision_tree = DecisionTreeClassifier(random_state=42)\n",
    "decision_tree.fit(X_train, y_train)\n",
    "\n",
    "# Predictions\n",
    "training_dc = decision_tree.predict(X_train)\n",
    "testing_dc = decision_tree.predict(X_test)\n",
    "\n",
    "# Evaluate on training set\n",
    "print(\"Metrics on ---Training Set ----\")\n",
    "print(f'Accuracy: {accuracy_score(y_train, training_dc):.2f}')\n",
    "print(f'Precision: {precision_score(y_train, training_dc, average=\"weighted\", zero_division=1):.2f}')\n",
    "print(f'Recall: {recall_score(y_train, training_dc, average=\"weighted\", zero_division=1):.2f}')\n",
    "#print(\"\\nClassification Report:\\n\", classification_report(y_train, training_dc))\n",
    "\n",
    "# Evaluate on test set\n",
    "print(\"\\nMetrics on ---Test Set ----\")\n",
    "print(f'Accuracy: {accuracy_score(y_test, testing_dc):.2f}')\n",
    "print(f'Precision: {precision_score(y_test, testing_dc, average=\"weighted\", zero_division=1):.2f}')\n",
    "print(f'Recall: {recall_score(y_test, testing_dc, average=\"weighted\", zero_division=1):.2f}')\n",
    "#print(\"\\nClassification Report:\\n\", classification_report(y_test, testing_dc))\n",
    "\n",
    "# cross-validation\n",
    "cv_scores = cross_val_score(knn, X, y, cv=5, scoring='accuracy')\n",
    "print(f\"\\nCross-validation accuracy: {cv_scores.mean():.2f} and {cv_scores.std():.2f}\")"
   ]
  },
  {
   "cell_type": "markdown",
   "id": "486d3de6-c042-4628-99af-7624cd0ec55c",
   "metadata": {},
   "source": [
    "## Random Forest "
   ]
  },
  {
   "cell_type": "code",
   "execution_count": 7,
   "id": "abea2bfa-b746-4218-9f08-e29eacb151d7",
   "metadata": {},
   "outputs": [
    {
     "name": "stdout",
     "output_type": "stream",
     "text": [
      "Metrics on ---Training Set ----\n",
      "Accuracy: 1.00\n",
      "Precision: 1.00\n",
      "Recall: 1.00\n",
      "\n",
      "Metrics on ---Test Set ----\n",
      "Accuracy: 1.00\n",
      "Precision: 1.00\n",
      "Recall: 1.00\n",
      "\n",
      "Cross-validation accuracy: 1.00 and 0.00\n"
     ]
    }
   ],
   "source": [
    "# _____ Εκπαίδευση Random Forest _____\n",
    "random_forest = RandomForestClassifier(n_estimators=100, random_state=42)\n",
    "random_forest.fit(X_train, y_train)\n",
    "\n",
    "# Predictions\n",
    "training_rf = random_forest.predict(X_train)\n",
    "testing_rf = random_forest.predict(X_test)\n",
    "\n",
    "# Evaluate on training set\n",
    "print(\"Metrics on ---Training Set ----\")\n",
    "print(f'Accuracy: {accuracy_score(y_train, training_rf):.2f}')\n",
    "print(f'Precision: {precision_score(y_train, training_rf, average=\"weighted\", zero_division=1):.2f}')\n",
    "print(f'Recall: {recall_score(y_train, training_rf, average=\"weighted\", zero_division=1):.2f}')\n",
    "#print(\"\\nClassification Report:\\n\", classification_report(y_train, training_rf))\n",
    "\n",
    "# Evaluate on test set\n",
    "print(\"\\nMetrics on ---Test Set ----\")\n",
    "print(f'Accuracy: {accuracy_score(y_test, testing_rf):.2f}')\n",
    "print(f'Precision: {precision_score(y_test, testing_rf, average=\"weighted\", zero_division=1):.2f}')\n",
    "print(f'Recall: {recall_score(y_test, testing_rf, average=\"weighted\", zero_division=1):.2f}')\n",
    "#print(\"\\nClassification Report:\\n\", classification_report(y_test, testing_rf))\n",
    "\n",
    "# cross-validation\n",
    "cv_scores = cross_val_score(knn, X, y, cv=5, scoring='accuracy')\n",
    "print(f\"\\nCross-validation accuracy: {cv_scores.mean():.2f} and {cv_scores.std():.2f}\")"
   ]
  },
  {
   "cell_type": "markdown",
   "id": "1589b2a7-43cb-4110-a473-9d4d3f8b9513",
   "metadata": {},
   "source": [
    "## SVM"
   ]
  },
  {
   "cell_type": "code",
   "execution_count": 8,
   "id": "954385ad-df07-4e7e-bcfb-6b8b471caef0",
   "metadata": {},
   "outputs": [
    {
     "name": "stdout",
     "output_type": "stream",
     "text": [
      "Metrics on ---Training Set ----\n",
      "Accuracy: 1.00\n",
      "Precision: 1.00\n",
      "Recall: 1.00\n",
      "\n",
      "Metrics on ---Test Set ----\n",
      "Accuracy: 1.00\n",
      "Precision: 1.00\n",
      "Recall: 1.00\n",
      "\n",
      "Cross-validation accuracy: 1.00 and 0.00\n"
     ]
    }
   ],
   "source": [
    "# Support Vector Machine \n",
    "# Εκπαίδευση SVM\n",
    "svm = SVC(random_state=42)\n",
    "svm.fit(X_train, y_train)\n",
    "\n",
    "# Predictions\n",
    "training_svm = svm.predict(X_train)\n",
    "testing_svm = svm.predict(X_test)\n",
    "\n",
    "# Evaluate on training set\n",
    "print(\"Metrics on ---Training Set ----\")\n",
    "print(f'Accuracy: {accuracy_score(y_train, training_svm):.2f}')\n",
    "print(f'Precision: {precision_score(y_train, training_svm, average=\"weighted\", zero_division=1):.2f}')\n",
    "print(f'Recall: {recall_score(y_train, training_svm, average=\"weighted\", zero_division=1):.2f}')\n",
    "#print(\"\\nClassification Report:\\n\", classification_report(y_train, training_svm))\n",
    "\n",
    "# Evaluate on test set\n",
    "print(\"\\nMetrics on ---Test Set ----\")\n",
    "print(f'Accuracy: {accuracy_score(y_test, testing_svm):.2f}')\n",
    "print(f'Precision: {precision_score(y_test, testing_svm, average=\"weighted\", zero_division=1):.2f}')\n",
    "print(f'Recall: {recall_score(y_test, testing_svm, average=\"weighted\", zero_division=1):.2f}')\n",
    "#print(\"\\nClassification Report:\\n\", classification_report(y_test, testing_svm))\n",
    "\n",
    "# cross-validation\n",
    "cv_scores = cross_val_score(knn, X, y, cv=5, scoring='accuracy')\n",
    "print(f\"\\nCross-validation accuracy: {cv_scores.mean():.2f} and {cv_scores.std():.2f}\")"
   ]
  },
  {
   "cell_type": "markdown",
   "id": "6be8992a-5b89-49e2-9644-7f7cffb814fa",
   "metadata": {},
   "source": [
    "## MLP"
   ]
  },
  {
   "cell_type": "code",
   "execution_count": 9,
   "id": "8b27d3ce-2a22-484c-9220-fb84f6b6837d",
   "metadata": {},
   "outputs": [
    {
     "name": "stdout",
     "output_type": "stream",
     "text": [
      "Metrics on ---Training Set ----\n",
      "Accuracy: 1.00\n",
      "Precision: 1.00\n",
      "Recall: 1.00\n",
      "\n",
      "Metrics on ---Test Set ----\n",
      "Accuracy: 1.00\n",
      "Precision: 1.00\n",
      "Recall: 1.00\n",
      "\n",
      "Cross-validation accuracy: 1.00 and 0.00\n"
     ]
    }
   ],
   "source": [
    "# _____ MLP _____\n",
    "mlp = MLPClassifier(hidden_layer_sizes=(100,), max_iter=300, random_state=42)\n",
    "\n",
    "mlp.fit(X_train, y_train)\n",
    "\n",
    "# Predictions\n",
    "training_mlp = mlp.predict(X_train)\n",
    "testing_mlp = mlp.predict(X_test)\n",
    "\n",
    "# Evaluate on training set\n",
    "print(\"Metrics on ---Training Set ----\")\n",
    "print(f'Accuracy: {accuracy_score(y_train, training_mlp):.2f}')\n",
    "print(f'Precision: {precision_score(y_train, training_mlp, average=\"weighted\", zero_division=1):.2f}')\n",
    "print(f'Recall: {recall_score(y_train, training_mlp, average=\"weighted\", zero_division=1):.2f}')\n",
    "#print(\"\\nClassification Report:\\n\", classification_report(y_train, training_mlp))\n",
    "\n",
    "# Evaluate on test set\n",
    "print(\"\\nMetrics on ---Test Set ----\")\n",
    "print(f'Accuracy: {accuracy_score(y_test, testing_mlp):.2f}')\n",
    "print(f'Precision: {precision_score(y_test, testing_mlp, average=\"weighted\", zero_division=1):.2f}')\n",
    "print(f'Recall: {recall_score(y_test, testing_mlp, average=\"weighted\", zero_division=1):.2f}')\n",
    "#print(\"\\nClassification Report:\\n\", classification_report(y_test, testing_mlp))\n",
    "\n",
    "# cross-validation\n",
    "cv_scores = cross_val_score(knn, X, y, cv=5, scoring='accuracy')\n",
    "print(f\"\\nCross-validation accuracy: {cv_scores.mean():.2f} and {cv_scores.std():.2f}\")"
   ]
  },
  {
   "cell_type": "markdown",
   "id": "3a1e16bd-e86e-4195-b6fb-2961a895dfb2",
   "metadata": {},
   "source": [
    "## CNN"
   ]
  },
  {
   "cell_type": "code",
   "execution_count": 18,
   "id": "a18f6711-1059-4b5f-b993-71c89da36ace",
   "metadata": {},
   "outputs": [
    {
     "name": "stdout",
     "output_type": "stream",
     "text": [
      "Epoch 1/50\n"
     ]
    },
    {
     "name": "stderr",
     "output_type": "stream",
     "text": [
      "C:\\Users\\evage\\anaconda3\\envs\\clean_env\\lib\\site-packages\\keras\\src\\layers\\convolutional\\base_conv.py:107: UserWarning: Do not pass an `input_shape`/`input_dim` argument to a layer. When using Sequential models, prefer using an `Input(shape)` object as the first layer in the model instead.\n",
      "  super().__init__(activity_regularizer=activity_regularizer, **kwargs)\n"
     ]
    },
    {
     "name": "stdout",
     "output_type": "stream",
     "text": [
      "\u001b[1m246/246\u001b[0m \u001b[32m━━━━━━━━━━━━━━━━━━━━\u001b[0m\u001b[37m\u001b[0m \u001b[1m9s\u001b[0m 21ms/step - accuracy: 0.7962 - loss: 0.8901 - val_accuracy: 0.4370 - val_loss: 2.1255\n",
      "Epoch 2/50\n",
      "\u001b[1m246/246\u001b[0m \u001b[32m━━━━━━━━━━━━━━━━━━━━\u001b[0m\u001b[37m\u001b[0m \u001b[1m5s\u001b[0m 19ms/step - accuracy: 0.9941 - loss: 0.0233 - val_accuracy: 0.9990 - val_loss: 0.0158\n",
      "Epoch 3/50\n",
      "\u001b[1m246/246\u001b[0m \u001b[32m━━━━━━━━━━━━━━━━━━━━\u001b[0m\u001b[37m\u001b[0m \u001b[1m5s\u001b[0m 19ms/step - accuracy: 0.9928 - loss: 0.0257 - val_accuracy: 1.0000 - val_loss: 5.4693e-05\n",
      "Epoch 4/50\n",
      "\u001b[1m246/246\u001b[0m \u001b[32m━━━━━━━━━━━━━━━━━━━━\u001b[0m\u001b[37m\u001b[0m \u001b[1m5s\u001b[0m 19ms/step - accuracy: 0.9902 - loss: 0.0283 - val_accuracy: 1.0000 - val_loss: 2.2080e-06\n",
      "Epoch 5/50\n",
      "\u001b[1m246/246\u001b[0m \u001b[32m━━━━━━━━━━━━━━━━━━━━\u001b[0m\u001b[37m\u001b[0m \u001b[1m5s\u001b[0m 20ms/step - accuracy: 0.9976 - loss: 0.0136 - val_accuracy: 1.0000 - val_loss: 4.5428e-06\n",
      "Epoch 6/50\n",
      "\u001b[1m246/246\u001b[0m \u001b[32m━━━━━━━━━━━━━━━━━━━━\u001b[0m\u001b[37m\u001b[0m \u001b[1m5s\u001b[0m 21ms/step - accuracy: 0.9969 - loss: 0.0114 - val_accuracy: 1.0000 - val_loss: 2.9583e-06\n",
      "Epoch 7/50\n",
      "\u001b[1m246/246\u001b[0m \u001b[32m━━━━━━━━━━━━━━━━━━━━\u001b[0m\u001b[37m\u001b[0m \u001b[1m6s\u001b[0m 24ms/step - accuracy: 0.9983 - loss: 0.0055 - val_accuracy: 1.0000 - val_loss: 6.8958e-07\n",
      "Epoch 8/50\n",
      "\u001b[1m246/246\u001b[0m \u001b[32m━━━━━━━━━━━━━━━━━━━━\u001b[0m\u001b[37m\u001b[0m \u001b[1m6s\u001b[0m 22ms/step - accuracy: 0.9961 - loss: 0.0124 - val_accuracy: 1.0000 - val_loss: 4.3855e-08\n",
      "Epoch 9/50\n",
      "\u001b[1m246/246\u001b[0m \u001b[32m━━━━━━━━━━━━━━━━━━━━\u001b[0m\u001b[37m\u001b[0m \u001b[1m5s\u001b[0m 20ms/step - accuracy: 0.9971 - loss: 0.0122 - val_accuracy: 1.0000 - val_loss: 1.4649e-05\n",
      "Epoch 10/50\n",
      "\u001b[1m246/246\u001b[0m \u001b[32m━━━━━━━━━━━━━━━━━━━━\u001b[0m\u001b[37m\u001b[0m \u001b[1m5s\u001b[0m 19ms/step - accuracy: 0.9925 - loss: 0.0337 - val_accuracy: 1.0000 - val_loss: 3.2731e-07\n",
      "Epoch 11/50\n",
      "\u001b[1m246/246\u001b[0m \u001b[32m━━━━━━━━━━━━━━━━━━━━\u001b[0m\u001b[37m\u001b[0m \u001b[1m5s\u001b[0m 18ms/step - accuracy: 0.9984 - loss: 0.0070 - val_accuracy: 1.0000 - val_loss: 6.6630e-08\n",
      "Epoch 12/50\n",
      "\u001b[1m246/246\u001b[0m \u001b[32m━━━━━━━━━━━━━━━━━━━━\u001b[0m\u001b[37m\u001b[0m \u001b[1m5s\u001b[0m 19ms/step - accuracy: 0.9991 - loss: 0.0027 - val_accuracy: 1.0000 - val_loss: 2.8591e-08\n",
      "Epoch 13/50\n",
      "\u001b[1m246/246\u001b[0m \u001b[32m━━━━━━━━━━━━━━━━━━━━\u001b[0m\u001b[37m\u001b[0m \u001b[1m6s\u001b[0m 23ms/step - accuracy: 0.9937 - loss: 0.0336 - val_accuracy: 1.0000 - val_loss: 1.3326e-09\n",
      "Epoch 14/50\n",
      "\u001b[1m246/246\u001b[0m \u001b[32m━━━━━━━━━━━━━━━━━━━━\u001b[0m\u001b[37m\u001b[0m \u001b[1m5s\u001b[0m 20ms/step - accuracy: 0.9964 - loss: 0.0185 - val_accuracy: 1.0000 - val_loss: 2.0595e-09\n",
      "Epoch 15/50\n",
      "\u001b[1m246/246\u001b[0m \u001b[32m━━━━━━━━━━━━━━━━━━━━\u001b[0m\u001b[37m\u001b[0m \u001b[1m5s\u001b[0m 19ms/step - accuracy: 0.9978 - loss: 0.0046 - val_accuracy: 1.0000 - val_loss: 3.6344e-10\n",
      "Epoch 16/50\n",
      "\u001b[1m246/246\u001b[0m \u001b[32m━━━━━━━━━━━━━━━━━━━━\u001b[0m\u001b[37m\u001b[0m \u001b[1m5s\u001b[0m 19ms/step - accuracy: 0.9969 - loss: 0.0132 - val_accuracy: 1.0000 - val_loss: 5.7974e-06\n",
      "Epoch 17/50\n",
      "\u001b[1m246/246\u001b[0m \u001b[32m━━━━━━━━━━━━━━━━━━━━\u001b[0m\u001b[37m\u001b[0m \u001b[1m5s\u001b[0m 18ms/step - accuracy: 0.9954 - loss: 0.0410 - val_accuracy: 1.0000 - val_loss: 7.4503e-08\n",
      "Epoch 18/50\n",
      "\u001b[1m246/246\u001b[0m \u001b[32m━━━━━━━━━━━━━━━━━━━━\u001b[0m\u001b[37m\u001b[0m \u001b[1m5s\u001b[0m 18ms/step - accuracy: 0.9934 - loss: 0.0388 - val_accuracy: 1.0000 - val_loss: 6.5128e-05\n",
      "Epoch 19/50\n",
      "\u001b[1m246/246\u001b[0m \u001b[32m━━━━━━━━━━━━━━━━━━━━\u001b[0m\u001b[37m\u001b[0m \u001b[1m5s\u001b[0m 18ms/step - accuracy: 0.9960 - loss: 0.0143 - val_accuracy: 1.0000 - val_loss: 3.6344e-10\n",
      "Epoch 20/50\n",
      "\u001b[1m246/246\u001b[0m \u001b[32m━━━━━━━━━━━━━━━━━━━━\u001b[0m\u001b[37m\u001b[0m \u001b[1m5s\u001b[0m 18ms/step - accuracy: 0.9987 - loss: 0.0029 - val_accuracy: 1.0000 - val_loss: 3.6344e-10\n",
      "Epoch 21/50\n",
      "\u001b[1m246/246\u001b[0m \u001b[32m━━━━━━━━━━━━━━━━━━━━\u001b[0m\u001b[37m\u001b[0m \u001b[1m5s\u001b[0m 18ms/step - accuracy: 0.9982 - loss: 0.0110 - val_accuracy: 1.0000 - val_loss: 8.2498e-08\n",
      "Epoch 22/50\n",
      "\u001b[1m246/246\u001b[0m \u001b[32m━━━━━━━━━━━━━━━━━━━━\u001b[0m\u001b[37m\u001b[0m \u001b[1m5s\u001b[0m 19ms/step - accuracy: 0.9968 - loss: 0.0328 - val_accuracy: 1.0000 - val_loss: 6.2997e-09\n",
      "Epoch 23/50\n",
      "\u001b[1m246/246\u001b[0m \u001b[32m━━━━━━━━━━━━━━━━━━━━\u001b[0m\u001b[37m\u001b[0m \u001b[1m5s\u001b[0m 19ms/step - accuracy: 0.9991 - loss: 0.0019 - val_accuracy: 1.0000 - val_loss: 7.2689e-10\n",
      "Epoch 24/50\n",
      "\u001b[1m246/246\u001b[0m \u001b[32m━━━━━━━━━━━━━━━━━━━━\u001b[0m\u001b[37m\u001b[0m \u001b[1m5s\u001b[0m 19ms/step - accuracy: 0.9990 - loss: 0.0015 - val_accuracy: 1.0000 - val_loss: 0.0000e+00\n",
      "Epoch 25/50\n",
      "\u001b[1m246/246\u001b[0m \u001b[32m━━━━━━━━━━━━━━━━━━━━\u001b[0m\u001b[37m\u001b[0m \u001b[1m5s\u001b[0m 20ms/step - accuracy: 0.9994 - loss: 0.0055 - val_accuracy: 1.0000 - val_loss: 0.0000e+00\n",
      "Epoch 26/50\n",
      "\u001b[1m246/246\u001b[0m \u001b[32m━━━━━━━━━━━━━━━━━━━━\u001b[0m\u001b[37m\u001b[0m \u001b[1m5s\u001b[0m 19ms/step - accuracy: 0.9987 - loss: 0.0070 - val_accuracy: 1.0000 - val_loss: 4.3612e-08\n",
      "Epoch 27/50\n",
      "\u001b[1m246/246\u001b[0m \u001b[32m━━━━━━━━━━━━━━━━━━━━\u001b[0m\u001b[37m\u001b[0m \u001b[1m5s\u001b[0m 19ms/step - accuracy: 0.9978 - loss: 0.0114 - val_accuracy: 1.0000 - val_loss: 3.8324e-07\n",
      "Epoch 28/50\n",
      "\u001b[1m246/246\u001b[0m \u001b[32m━━━━━━━━━━━━━━━━━━━━\u001b[0m\u001b[37m\u001b[0m \u001b[1m5s\u001b[0m 18ms/step - accuracy: 0.9967 - loss: 0.0174 - val_accuracy: 1.0000 - val_loss: 4.3613e-09\n",
      "Epoch 29/50\n",
      "\u001b[1m246/246\u001b[0m \u001b[32m━━━━━━━━━━━━━━━━━━━━\u001b[0m\u001b[37m\u001b[0m \u001b[1m5s\u001b[0m 19ms/step - accuracy: 0.9983 - loss: 0.0046 - val_accuracy: 0.9990 - val_loss: 0.0032\n",
      "Epoch 30/50\n",
      "\u001b[1m246/246\u001b[0m \u001b[32m━━━━━━━━━━━━━━━━━━━━\u001b[0m\u001b[37m\u001b[0m \u001b[1m5s\u001b[0m 18ms/step - accuracy: 0.9992 - loss: 0.0057 - val_accuracy: 1.0000 - val_loss: 1.9384e-09\n",
      "Epoch 31/50\n",
      "\u001b[1m246/246\u001b[0m \u001b[32m━━━━━━━━━━━━━━━━━━━━\u001b[0m\u001b[37m\u001b[0m \u001b[1m4s\u001b[0m 18ms/step - accuracy: 0.9993 - loss: 0.0019 - val_accuracy: 1.0000 - val_loss: 7.9957e-09\n",
      "Epoch 32/50\n",
      "\u001b[1m246/246\u001b[0m \u001b[32m━━━━━━━━━━━━━━━━━━━━\u001b[0m\u001b[37m\u001b[0m \u001b[1m5s\u001b[0m 19ms/step - accuracy: 0.9973 - loss: 0.0083 - val_accuracy: 1.0000 - val_loss: 6.0574e-10\n",
      "Epoch 33/50\n",
      "\u001b[1m246/246\u001b[0m \u001b[32m━━━━━━━━━━━━━━━━━━━━\u001b[0m\u001b[37m\u001b[0m \u001b[1m5s\u001b[0m 19ms/step - accuracy: 0.9972 - loss: 0.0095 - val_accuracy: 1.0000 - val_loss: 1.2115e-10\n",
      "Epoch 34/50\n",
      "\u001b[1m246/246\u001b[0m \u001b[32m━━━━━━━━━━━━━━━━━━━━\u001b[0m\u001b[37m\u001b[0m \u001b[1m5s\u001b[0m 19ms/step - accuracy: 0.9984 - loss: 0.0042 - val_accuracy: 1.0000 - val_loss: 4.8459e-10\n",
      "Epoch 35/50\n",
      "\u001b[1m246/246\u001b[0m \u001b[32m━━━━━━━━━━━━━━━━━━━━\u001b[0m\u001b[37m\u001b[0m \u001b[1m5s\u001b[0m 19ms/step - accuracy: 0.9997 - loss: 0.0014 - val_accuracy: 1.0000 - val_loss: 0.0000e+00\n",
      "Epoch 36/50\n",
      "\u001b[1m246/246\u001b[0m \u001b[32m━━━━━━━━━━━━━━━━━━━━\u001b[0m\u001b[37m\u001b[0m \u001b[1m5s\u001b[0m 19ms/step - accuracy: 0.9996 - loss: 0.0012 - val_accuracy: 1.0000 - val_loss: 1.2115e-10\n",
      "Epoch 37/50\n",
      "\u001b[1m246/246\u001b[0m \u001b[32m━━━━━━━━━━━━━━━━━━━━\u001b[0m\u001b[37m\u001b[0m \u001b[1m5s\u001b[0m 18ms/step - accuracy: 0.9988 - loss: 0.0041 - val_accuracy: 1.0000 - val_loss: 6.0574e-10\n",
      "Epoch 38/50\n",
      "\u001b[1m246/246\u001b[0m \u001b[32m━━━━━━━━━━━━━━━━━━━━\u001b[0m\u001b[37m\u001b[0m \u001b[1m5s\u001b[0m 21ms/step - accuracy: 0.9977 - loss: 0.0065 - val_accuracy: 1.0000 - val_loss: 1.5507e-08\n",
      "Epoch 39/50\n",
      "\u001b[1m246/246\u001b[0m \u001b[32m━━━━━━━━━━━━━━━━━━━━\u001b[0m\u001b[37m\u001b[0m \u001b[1m5s\u001b[0m 19ms/step - accuracy: 0.9994 - loss: 0.0031 - val_accuracy: 1.0000 - val_loss: 0.0000e+00\n",
      "Epoch 40/50\n",
      "\u001b[1m246/246\u001b[0m \u001b[32m━━━━━━━━━━━━━━━━━━━━\u001b[0m\u001b[37m\u001b[0m \u001b[1m5s\u001b[0m 19ms/step - accuracy: 0.9994 - loss: 9.8409e-04 - val_accuracy: 1.0000 - val_loss: 0.0000e+00\n",
      "Epoch 41/50\n",
      "\u001b[1m246/246\u001b[0m \u001b[32m━━━━━━━━━━━━━━━━━━━━\u001b[0m\u001b[37m\u001b[0m \u001b[1m5s\u001b[0m 20ms/step - accuracy: 0.9995 - loss: 0.0021 - val_accuracy: 1.0000 - val_loss: 1.2115e-10\n",
      "Epoch 42/50\n",
      "\u001b[1m246/246\u001b[0m \u001b[32m━━━━━━━━━━━━━━━━━━━━\u001b[0m\u001b[37m\u001b[0m \u001b[1m5s\u001b[0m 19ms/step - accuracy: 0.9992 - loss: 0.0027 - val_accuracy: 1.0000 - val_loss: 3.5253e-08\n",
      "Epoch 43/50\n",
      "\u001b[1m246/246\u001b[0m \u001b[32m━━━━━━━━━━━━━━━━━━━━\u001b[0m\u001b[37m\u001b[0m \u001b[1m5s\u001b[0m 19ms/step - accuracy: 0.9998 - loss: 7.1559e-04 - val_accuracy: 1.0000 - val_loss: 0.0000e+00\n",
      "Epoch 44/50\n",
      "\u001b[1m246/246\u001b[0m \u001b[32m━━━━━━━━━━━━━━━━━━━━\u001b[0m\u001b[37m\u001b[0m \u001b[1m5s\u001b[0m 18ms/step - accuracy: 0.9998 - loss: 0.0011 - val_accuracy: 1.0000 - val_loss: 1.2115e-10\n",
      "Epoch 45/50\n",
      "\u001b[1m246/246\u001b[0m \u001b[32m━━━━━━━━━━━━━━━━━━━━\u001b[0m\u001b[37m\u001b[0m \u001b[1m5s\u001b[0m 18ms/step - accuracy: 0.9976 - loss: 0.0041 - val_accuracy: 1.0000 - val_loss: 2.4230e-10\n",
      "Epoch 46/50\n",
      "\u001b[1m246/246\u001b[0m \u001b[32m━━━━━━━━━━━━━━━━━━━━\u001b[0m\u001b[37m\u001b[0m \u001b[1m5s\u001b[0m 18ms/step - accuracy: 0.9996 - loss: 0.0012 - val_accuracy: 1.0000 - val_loss: 9.2072e-09\n",
      "Epoch 47/50\n",
      "\u001b[1m246/246\u001b[0m \u001b[32m━━━━━━━━━━━━━━━━━━━━\u001b[0m\u001b[37m\u001b[0m \u001b[1m5s\u001b[0m 19ms/step - accuracy: 0.9999 - loss: 0.0012 - val_accuracy: 1.0000 - val_loss: 0.0000e+00\n",
      "Epoch 48/50\n",
      "\u001b[1m246/246\u001b[0m \u001b[32m━━━━━━━━━━━━━━━━━━━━\u001b[0m\u001b[37m\u001b[0m \u001b[1m5s\u001b[0m 19ms/step - accuracy: 0.9994 - loss: 0.0013 - val_accuracy: 1.0000 - val_loss: 0.0000e+00\n",
      "Epoch 49/50\n",
      "\u001b[1m246/246\u001b[0m \u001b[32m━━━━━━━━━━━━━━━━━━━━\u001b[0m\u001b[37m\u001b[0m \u001b[1m5s\u001b[0m 19ms/step - accuracy: 0.9995 - loss: 0.0011 - val_accuracy: 1.0000 - val_loss: 0.0000e+00\n",
      "Epoch 50/50\n",
      "\u001b[1m246/246\u001b[0m \u001b[32m━━━━━━━━━━━━━━━━━━━━\u001b[0m\u001b[37m\u001b[0m \u001b[1m5s\u001b[0m 19ms/step - accuracy: 0.9999 - loss: 5.0287e-04 - val_accuracy: 1.0000 - val_loss: 9.6918e-09\n",
      "\u001b[1m31/31\u001b[0m \u001b[32m━━━━━━━━━━━━━━━━━━━━\u001b[0m\u001b[37m\u001b[0m \u001b[1m0s\u001b[0m 8ms/step - accuracy: 1.0000 - loss: 1.3961e-08\n",
      "\n",
      "Test Accuracy: 1.00\n",
      "\u001b[1m31/31\u001b[0m \u001b[32m━━━━━━━━━━━━━━━━━━━━\u001b[0m\u001b[37m\u001b[0m \u001b[1m1s\u001b[0m 15ms/step\n"
     ]
    }
   ],
   "source": [
    "# Features and labels\n",
    "X = train_data.drop(columns=[\"prognosis\"]).values  # One-hot encoded features\n",
    "y = train_data[\"prognosis\"].values  # Labels\n",
    "\n",
    "# Encode labels as numbers\n",
    "label_encoder = LabelEncoder()\n",
    "y = label_encoder.fit_transform(y)\n",
    "y = to_categorical(y)  # Convert labels to one-hot encoding\n",
    "\n",
    "# Reshape input for CNN (CNN expects 3D input: samples, time steps, features)\n",
    "X = X.reshape(X.shape[0], X.shape[1], 1)  # No scaling needed\n",
    "\n",
    "# Train-test split\n",
    "X_train, X_test, y_train, y_test = train_test_split(X, y, test_size=0.2, random_state=24, stratify=y)\n",
    "\n",
    "# CNN Model\n",
    "cnn = Sequential([\n",
    "    Conv1D(64, kernel_size=3, activation='relu', input_shape=(X_train.shape[1], 1)),\n",
    "    BatchNormalization(),\n",
    "    MaxPooling1D(pool_size=2),\n",
    "    \n",
    "    Conv1D(128, kernel_size=3, activation='relu'),\n",
    "    BatchNormalization(),\n",
    "    MaxPooling1D(pool_size=2),\n",
    "    \n",
    "    Flatten(),\n",
    "    Dense(128, activation='relu'),\n",
    "    Dropout(0.5),\n",
    "    Dense(y_train.shape[1], activation='softmax')  # Output layer\n",
    "])\n",
    "\n",
    "# Compile the model\n",
    "cnn.compile(optimizer='adam', loss='categorical_crossentropy', metrics=['accuracy'])\n",
    "\n",
    "# Train the model\n",
    "history = cnn.fit(X_train, y_train, epochs=50, batch_size=16, validation_data=(X_test, y_test), verbose=1)\n",
    "\n",
    "# Evaluate the model\n",
    "test_loss, test_acc = cnn.evaluate(X_test, y_test)\n",
    "print(f\"\\nTest Accuracy: {test_acc:.2f}\")\n",
    "\n",
    "# Predictions\n",
    "y_pred = cnn.predict(X_test)\n",
    "y_pred_classes = np.argmax(y_pred, axis=1)\n",
    "y_true_classes = np.argmax(y_test, axis=1)\n",
    "\n",
    "# Convert predictions back to original labels\n",
    "y_pred_labels = label_encoder.inverse_transform(y_pred_classes)\n",
    "y_true_labels = label_encoder.inverse_transform(y_true_classes)\n",
    "\n",
    "# Classification Report\n",
    "#print(\"\\nClassification Report:\\n\", classification_report(y_true_labels, y_pred_labels))\n"
   ]
  },
  {
   "cell_type": "markdown",
   "id": "09ac6950-0bf5-4dc1-b0ce-85c120b4686e",
   "metadata": {},
   "source": [
    "## Testing models"
   ]
  },
  {
   "cell_type": "code",
   "execution_count": 13,
   "id": "76f76608-c305-4ca9-9820-83e2128a6f2c",
   "metadata": {},
   "outputs": [
    {
     "name": "stdout",
     "output_type": "stream",
     "text": [
      "Precision: 1.0\n"
     ]
    }
   ],
   "source": [
    "print(\"Precision:\", precision_score(test_data[\"prognosis\"], knn.predict(P), average='weighted', zero_division=1))"
   ]
  },
  {
   "cell_type": "code",
   "execution_count": 14,
   "id": "289142cc-37c1-415d-800d-b49f23122670",
   "metadata": {},
   "outputs": [
    {
     "name": "stdout",
     "output_type": "stream",
     "text": [
      "Precision: 0.9880952380952381\n"
     ]
    }
   ],
   "source": [
    "print(\"Precision:\", precision_score(test_data[\"prognosis\"], decision_tree.predict(P), average='weighted', zero_division=1))"
   ]
  },
  {
   "cell_type": "code",
   "execution_count": 15,
   "id": "20dc1a17-65ad-4ab2-86b4-55dea83461f9",
   "metadata": {},
   "outputs": [
    {
     "name": "stdout",
     "output_type": "stream",
     "text": [
      "Precision: 0.9880952380952381\n"
     ]
    }
   ],
   "source": [
    "print(\"Precision:\", precision_score(test_data[\"prognosis\"], random_forest.predict(P), average='weighted', zero_division=1))"
   ]
  },
  {
   "cell_type": "code",
   "execution_count": 16,
   "id": "2cbdb0f0-6e4e-4800-89b4-60558d54ffc4",
   "metadata": {},
   "outputs": [
    {
     "name": "stdout",
     "output_type": "stream",
     "text": [
      "Precision: 1.0\n"
     ]
    }
   ],
   "source": [
    "print(\"Precision:\", precision_score(test_data[\"prognosis\"], svm.predict(P), average='weighted', zero_division=1))"
   ]
  },
  {
   "cell_type": "code",
   "execution_count": 17,
   "id": "6e994e87-b29e-4f4f-8505-b718de3c7142",
   "metadata": {},
   "outputs": [
    {
     "name": "stdout",
     "output_type": "stream",
     "text": [
      "Precision: 0.9880952380952381\n"
     ]
    }
   ],
   "source": [
    "print(\"Precision:\", precision_score(test_data[\"prognosis\"], mlp.predict(P), average='weighted', zero_division=1))"
   ]
  },
  {
   "cell_type": "code",
   "execution_count": 21,
   "id": "1a3cb590-a74d-4e64-a569-a0fc766a88d5",
   "metadata": {},
   "outputs": [
    {
     "name": "stdout",
     "output_type": "stream",
     "text": [
      "\u001b[1m2/2\u001b[0m \u001b[32m━━━━━━━━━━━━━━━━━━━━\u001b[0m\u001b[37m\u001b[0m \u001b[1m0s\u001b[0m 11ms/step\n",
      "Precision: 0.9880952380952381\n"
     ]
    }
   ],
   "source": [
    "# Predictions on test dataset\n",
    "P = test_data.drop(columns=[\"prognosis\"]).values  # Extract test features\n",
    "P = np.expand_dims(P, axis=-1)  # Reshape for CNN\n",
    "\n",
    "# Predict probabilities\n",
    "y_pred_cnn = cnn.predict(P)\n",
    "\n",
    "# Convert probabilities to class labels\n",
    "y_pred_labels = label_encoder.inverse_transform(np.argmax(y_pred_cnn, axis=1))\n",
    "\n",
    "# Calculate precision\n",
    "print(\"Precision:\", precision_score(test_data[\"prognosis\"], y_pred_labels, average='weighted', zero_division=1))"
   ]
  },
  {
   "cell_type": "markdown",
   "id": "866b00ab-84c5-47fc-be0a-2586c554cc94",
   "metadata": {},
   "source": [
    "# Save Pre-trained model"
   ]
  },
  {
   "cell_type": "code",
   "execution_count": 22,
   "id": "8885060a-f0d2-4552-bac1-a04b220c409f",
   "metadata": {},
   "outputs": [
    {
     "name": "stdout",
     "output_type": "stream",
     "text": [
      "Το μοντέλο αποθηκεύτηκε επιτυχώς\n",
      "Το μοντέλο φορτώθηκε επιτυχώς\n"
     ]
    }
   ],
   "source": [
    "import joblib\n",
    "\n",
    "# Αποθήκευση του εκπαιδευμένου MLP μοντέλου\n",
    "joblib.dump(knn, 'knn.joblib')\n",
    "print(\"Το μοντέλο αποθηκεύτηκε επιτυχώς\")\n",
    "\n",
    "# Φόρτωση του αποθηκευμένου μοντέλου\n",
    "knn_loaded = joblib.load('knn.joblib')\n",
    "print(\"Το μοντέλο φορτώθηκε επιτυχώς\")"
   ]
  }
 ],
 "metadata": {
  "kernelspec": {
   "display_name": "clean_env",
   "language": "python",
   "name": "clean_env"
  },
  "language_info": {
   "codemirror_mode": {
    "name": "ipython",
    "version": 3
   },
   "file_extension": ".py",
   "mimetype": "text/x-python",
   "name": "python",
   "nbconvert_exporter": "python",
   "pygments_lexer": "ipython3",
   "version": "3.9.20"
  }
 },
 "nbformat": 4,
 "nbformat_minor": 5
}
